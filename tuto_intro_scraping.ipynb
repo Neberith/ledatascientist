{
 "cells": [
  {
   "cell_type": "code",
   "execution_count": 2,
   "metadata": {},
   "outputs": [],
   "source": [
    "# On importe la fonction 'get' (téléchargement) de 'requests' et la classe 'Selector' (Parsing) de 'scrapy'\n",
    "from requests import get\n",
    "from scrapy import Selector"
   ]
  },
  {
   "cell_type": "code",
   "execution_count": 3,
   "metadata": {},
   "outputs": [],
   "source": [
    "## Téléchargement de la page"
   ]
  },
  {
   "cell_type": "code",
   "execution_count": 4,
   "metadata": {},
   "outputs": [],
   "source": [
    "url = \"https://fr.wikipedia.org/wiki/Star_Wars\"\n",
    "response = get(url)\n",
    "source = None # Le code source de la page \n",
    "if response.status_code == 200 :\n",
    "    # Si la requete s'est bien passee\n",
    "    source = response.text"
   ]
  },
  {
   "cell_type": "code",
   "execution_count": 5,
   "metadata": {},
   "outputs": [],
   "source": [
    "## Parsing de la page"
   ]
  },
  {
   "cell_type": "code",
   "execution_count": 7,
   "metadata": {
    "scrolled": true
   },
   "outputs": [
    {
     "name": "stdout",
     "output_type": "stream",
     "text": [
      "1 Univers\n",
      "1.1 Histoires\n",
      "1.1.1 Histoire commune\n",
      "1.1.2 Suite de l'histoire dans la troisième trilogie de \n",
      "1.1.3 Suite de l'histoire dans l'univers \n",
      "1.2 Technologie et armes\n",
      "1.3 Planètes\n",
      "1.4 Espèces\n",
      "2 Films\n",
      "2.1 Trilogie originale (1977 à 1983)\n",
      "2.1.1 Synopsis\n",
      "2.1.2 Des débuts difficiles mais un succès sans précédent\n",
      "2.2 Prélogie (1999 à 2005)\n",
      "2.2.1 Synopsis\n",
      "2.2.2 Réalisation : le retour de Lucas aux commandes\n",
      "2.3 Troisième trilogie (2015 à 2019)\n",
      "2.4 Projets (après 2019)\n",
      "2.5 Films dérivés (depuis 2008)\n",
      "3 Critiques\n",
      "3.1 Accueil critique et commercial de la saga\n",
      "3.2  : édition spéciale\n",
      "4 Univers étendu\n",
      "4.1 Séries télévisées et téléfilms\n",
      "4.2 Romans\n",
      "4.3 Bandes dessinées\n",
      "4.4 Jeux vidéo\n",
      "4.5 Autres produits dérivés\n",
      "5 Inspirations\n",
      "5.1 Un univers inspiré de la fiction…\n",
      "5.2 … et de la réalité\n",
      "6 Postérité\n",
      "6.1 Impact culturel\n",
      "6.2 Dans la culture populaire\n",
      "6.3 Place des femmes dans la saga\n",
      "7 Notes et références\n",
      "7.1 Notes\n",
      "7.2 Références\n",
      "8 Annexes\n",
      "8.1 Bibliographie\n",
      "8.2 Articles connexes\n",
      "8.3 Liens externes\n"
     ]
    }
   ],
   "source": [
    "if source :\n",
    "    # Si le code source existe\n",
    "    selector = Selector(text=source)\n",
    "    titles = selector.css(\"div.toc ul > li\")\n",
    "    for title in titles:\n",
    "        level = title.css(\"span.tocnumber::text\").extract_first()\n",
    "        name = title.css(\"span.toctext::text\").extract_first()\n",
    "        print(level + \" \" + name)"
   ]
  }
 ],
 "metadata": {
  "kernelspec": {
   "display_name": "Python 3",
   "language": "python",
   "name": "python3"
  },
  "language_info": {
   "codemirror_mode": {
    "name": "ipython",
    "version": 3
   },
   "file_extension": ".py",
   "mimetype": "text/x-python",
   "name": "python",
   "nbconvert_exporter": "python",
   "pygments_lexer": "ipython3",
   "version": "3.7.1"
  }
 },
 "nbformat": 4,
 "nbformat_minor": 2
}
